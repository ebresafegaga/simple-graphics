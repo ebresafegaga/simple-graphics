{
 "cells": [
  {
   "cell_type": "code",
   "execution_count": 1,
   "metadata": {},
   "outputs": [
    {
     "data": {
      "text/plain": [
       "module Common :\n",
       "  sig\n",
       "    module Seq :\n",
       "      sig\n",
       "        type 'a t = unit -> 'a node\n",
       "        and 'a node = 'a Seq.node = Nil | Cons of 'a * 'a t\n",
       "        val empty : 'a t\n",
       "        val return : 'a -> 'a t\n",
       "        val cons : 'a -> 'a t -> 'a t\n",
       "        val append : 'a t -> 'a t -> 'a t\n",
       "        val map : ('a -> 'b) -> 'a t -> 'b t\n",
       "        val filter : ('a -> bool) -> 'a t -> 'a t\n",
       "        val filter_map : ('a -> 'b option) -> 'a t -> 'b t\n",
       "        val flat_map : ('a -> 'b t) -> 'a t -> 'b t\n",
       "        val fold_left : ('a -> 'b -> 'a) -> 'a -> 'b t -> 'a\n",
       "        val iter : ('a -> unit) -> 'a t -> unit\n",
       "        val unfold : ('b -> ('a * 'b) option) -> 'b -> 'a t\n",
       "        val take : int -> 'a Seq.t -> 'a Seq.t\n",
       "        val take_while : ('a -> bool) -> 'a Seq.t -> 'a Seq.t\n",
       "      end\n",
       "  end\n"
      ]
     },
     "execution_count": 1,
     "metadata": {},
     "output_type": "execute_result"
    }
   ],
   "source": [
    "module Common = struct \n",
    "module Seq = struct \n",
    "    include Seq\n",
    "    let rec take n xs () = \n",
    "        match n, xs () with\n",
    "        | 0, _ -> Seq.Nil\n",
    "        | n, Seq.Cons (x, xs) -> Seq.Cons (x, take (pred n) xs)\n",
    "        | n, Seq.Nil (* n  > 0 *) -> Seq.Nil \n",
    "    \n",
    "    let rec take_while f xs () = \n",
    "        match xs () with \n",
    "        | Seq.Cons (x, xs) -> \n",
    "            if f x then \n",
    "                Seq.Cons (x, take_while f xs) \n",
    "            else \n",
    "                Seq.Nil \n",
    "        | Seq.Nil -> Seq.Nil\n",
    "end\n",
    "end"
   ]
  },
  {
   "cell_type": "code",
   "execution_count": 4,
   "metadata": {},
   "outputs": [
    {
     "name": "stdout",
     "output_type": "stream",
     "text": [
      "val square : int -> int = <fun>\n",
      "val next_values : int * int * int -> int * int * int = <fun>\n",
      "val initial : int -> int = <fun>\n",
      "val calculate : int -> (int * int * int) Seq.t = <fun>\n"
     ]
    }
   ],
   "source": [
    "#use \"midpoint.ml\" "
   ]
  },
  {
   "cell_type": "code",
   "execution_count": 5,
   "metadata": {},
   "outputs": [
    {
     "data": {
      "text/plain": [
       "- : (int * int * int) list =\n",
       "[(0, 8, -7); (1, 8, -4); (2, 8, 1); (3, 7, -6); (4, 7, 3); (5, 6, 2)]\n"
      ]
     },
     "execution_count": 5,
     "metadata": {},
     "output_type": "execute_result"
    }
   ],
   "source": [
    "calculate 8 |> List.of_seq "
   ]
  },
  {
   "cell_type": "code",
   "execution_count": null,
   "metadata": {},
   "outputs": [],
   "source": []
  }
 ],
 "metadata": {
  "kernelspec": {
   "display_name": "OCaml 4.11.1",
   "language": "OCaml",
   "name": "ocaml-jupyter"
  },
  "language_info": {
   "codemirror_mode": "text/x-ocaml",
   "file_extension": ".ml",
   "mimetype": "text/x-ocaml",
   "name": "OCaml",
   "nbconverter_exporter": null,
   "pygments_lexer": "OCaml",
   "version": "4.11.1"
  }
 },
 "nbformat": 4,
 "nbformat_minor": 4
}
