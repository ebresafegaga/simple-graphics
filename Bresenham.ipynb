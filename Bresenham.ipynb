{
 "cells": [
  {
   "cell_type": "code",
   "execution_count": 1,
   "metadata": {},
   "outputs": [
    {
     "name": "stdout",
     "output_type": "stream",
     "text": [
      "File \"bresenham.ml\", line 1, characters 5-11:\n",
      "1 | open Common\n",
      "         ^^^^^^\n",
      "Error: Unbound module Common\n"
     ]
    }
   ],
   "source": [
    "#use \"bresenham.ml\""
   ]
  },
  {
   "cell_type": "code",
   "execution_count": 2,
   "metadata": {},
   "outputs": [
    {
     "name": "stdout",
     "output_type": "stream",
     "text": [
      "val initial : int -> int -> int = <fun>\n",
      "val determine_y : int -> int -> int -> int -> int * int = <fun>\n",
      "val calculate : int * int -> int * int -> (int * int * int) Seq.t = <fun>\n"
     ]
    }
   ],
   "source": [
    "#use \"bresenham.ml\""
   ]
  },
  {
   "cell_type": "code",
   "execution_count": 3,
   "metadata": {},
   "outputs": [
    {
     "ename": "error",
     "evalue": "compile_error",
     "output_type": "error",
     "traceback": [
      "File \"[3]\", line 1, characters 0-9:\n1 | claculate (1, 1) (8, 5) |> List.of_seq \n    ^^^^^^^^^\nError: Unbound value claculate\nHint: Did you mean calculate?\n"
     ]
    }
   ],
   "source": [
    "claculate (1, 1) (8, 5) |> List.of_seq "
   ]
  },
  {
   "cell_type": "code",
   "execution_count": 4,
   "metadata": {},
   "outputs": [
    {
     "data": {
      "text/plain": [
       "- : (int * int * int) list =\n",
       "[(1, 1, 1); (2, 2, 7); (3, 3, 13); (4, 4, 19); (5, 5, 25); (6, 6, 31);\n",
       " (7, 7, 37); (8, 8, 43)]\n"
      ]
     },
     "execution_count": 4,
     "metadata": {},
     "output_type": "execute_result"
    }
   ],
   "source": [
    "calculate (1, 1) (8, 5) |> List.of_seq "
   ]
  },
  {
   "cell_type": "code",
   "execution_count": 5,
   "metadata": {},
   "outputs": [
    {
     "data": {
      "text/plain": [
       "- : (int * int * int) list =\n",
       "[(1, 1, 1); (2, 2, 7); (3, 3, 13); (4, 4, 19); (5, 5, 25); (6, 6, 31);\n",
       " (7, 7, 37); (8, 8, 43)]\n"
      ]
     },
     "execution_count": 5,
     "metadata": {},
     "output_type": "execute_result"
    }
   ],
   "source": [
    "calculate (1, 1) (8, 5) |> List.of_seq "
   ]
  },
  {
   "cell_type": "code",
   "execution_count": 6,
   "metadata": {},
   "outputs": [
    {
     "name": "stdout",
     "output_type": "stream",
     "text": [
      "val initial : int -> int -> int = <fun>\n",
      "val determine_y : int -> int -> int -> int -> int * int = <fun>\n",
      "val calculate : int * int -> int * int -> (int * int * int) Seq.t = <fun>\n"
     ]
    }
   ],
   "source": [
    "#use \"bresenham.ml\""
   ]
  },
  {
   "cell_type": "code",
   "execution_count": 7,
   "metadata": {},
   "outputs": [
    {
     "data": {
      "text/plain": [
       "- : (int * int * int) list =\n",
       "[(1, 1, 1); (2, 2, 7); (3, 3, 13); (4, 4, 19); (5, 5, 25); (6, 6, 31);\n",
       " (7, 7, 37); (8, 8, 43)]\n"
      ]
     },
     "execution_count": 7,
     "metadata": {},
     "output_type": "execute_result"
    }
   ],
   "source": [
    "calculate (1, 1) (8, 5) |> List.of_seq "
   ]
  },
  {
   "cell_type": "code",
   "execution_count": 10,
   "metadata": {},
   "outputs": [
    {
     "name": "stdout",
     "output_type": "stream",
     "text": [
      "val initial : int -> int -> int = <fun>\n",
      "val determine_y : int -> int -> int -> int -> int * int = <fun>\n",
      "val calculate : int * int -> int * int -> (int * int * int) Seq.t = <fun>\n"
     ]
    }
   ],
   "source": [
    "#use \"bresenham.ml\""
   ]
  },
  {
   "cell_type": "code",
   "execution_count": 11,
   "metadata": {},
   "outputs": [
    {
     "data": {
      "text/plain": [
       "- : (int * int * int) list =\n",
       "[(1, 1, 1); (2, 2, -5); (3, 2, 3); (4, 3, -3); (5, 3, 5); (6, 4, -1);\n",
       " (7, 4, 7); (8, 5, 1)]\n"
      ]
     },
     "execution_count": 11,
     "metadata": {},
     "output_type": "execute_result"
    }
   ],
   "source": [
    "calculate (1, 1) (8, 5) |> List.of_seq "
   ]
  },
  {
   "cell_type": "code",
   "execution_count": null,
   "metadata": {},
   "outputs": [],
   "source": []
  }
 ],
 "metadata": {
  "kernelspec": {
   "display_name": "OCaml 4.11.1",
   "language": "OCaml",
   "name": "ocaml-jupyter"
  },
  "language_info": {
   "codemirror_mode": "text/x-ocaml",
   "file_extension": ".ml",
   "mimetype": "text/x-ocaml",
   "name": "OCaml",
   "nbconverter_exporter": null,
   "pygments_lexer": "OCaml",
   "version": "4.11.1"
  }
 },
 "nbformat": 4,
 "nbformat_minor": 4
}
