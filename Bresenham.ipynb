{
 "cells": [
  {
   "cell_type": "code",
   "execution_count": 1,
   "metadata": {},
   "outputs": [
    {
     "name": "stdout",
     "output_type": "stream",
     "text": [
      "File \"bresenham.ml\", line 1, characters 5-11:\n",
      "1 | open Common\n",
      "         ^^^^^^\n",
      "Error: Unbound module Common\n"
     ]
    }
   ],
   "source": [
    "#use \"bresenham.ml\""
   ]
  },
  {
   "cell_type": "code",
   "execution_count": 2,
   "metadata": {},
   "outputs": [
    {
     "name": "stdout",
     "output_type": "stream",
     "text": [
      "val initial : int -> int -> int = <fun>\n",
      "val determine_y : int -> int -> int -> int -> int * int = <fun>\n",
      "val calculate : int * int -> int * int -> (int * int * int) Seq.t = <fun>\n"
     ]
    }
   ],
   "source": [
    "#use \"bresenham.ml\""
   ]
  },
  {
   "cell_type": "code",
   "execution_count": 3,
   "metadata": {},
   "outputs": [
    {
     "ename": "error",
     "evalue": "compile_error",
     "output_type": "error",
     "traceback": [
      "File \"[3]\", line 1, characters 0-9:\n1 | claculate (1, 1) (8, 5) |> List.of_seq \n    ^^^^^^^^^\nError: Unbound value claculate\nHint: Did you mean calculate?\n"
     ]
    }
   ],
   "source": [
    "claculate (1, 1) (8, 5) |> List.of_seq "
   ]
  },
  {
   "cell_type": "code",
   "execution_count": 4,
   "metadata": {},
   "outputs": [
    {
     "data": {
      "text/plain": [
       "- : (int * int * int) list =\n",
       "[(1, 1, 1); (2, 2, 7); (3, 3, 13); (4, 4, 19); (5, 5, 25); (6, 6, 31);\n",
       " (7, 7, 37); (8, 8, 43)]\n"
      ]
     },
     "execution_count": 4,
     "metadata": {},
     "output_type": "execute_result"
    }
   ],
   "source": [
    "calculate (1, 1) (8, 5) |> List.of_seq "
   ]
  },
  {
   "cell_type": "code",
   "execution_count": 5,
   "metadata": {},
   "outputs": [
    {
     "data": {
      "text/plain": [
       "- : (int * int * int) list =\n",
       "[(1, 1, 1); (2, 2, 7); (3, 3, 13); (4, 4, 19); (5, 5, 25); (6, 6, 31);\n",
       " (7, 7, 37); (8, 8, 43)]\n"
      ]
     },
     "execution_count": 5,
     "metadata": {},
     "output_type": "execute_result"
    }
   ],
   "source": [
    "calculate (1, 1) (8, 5) |> List.of_seq "
   ]
  },
  {
   "cell_type": "code",
   "execution_count": 6,
   "metadata": {},
   "outputs": [
    {
     "name": "stdout",
     "output_type": "stream",
     "text": [
      "val initial : int -> int -> int = <fun>\n",
      "val determine_y : int -> int -> int -> int -> int * int = <fun>\n",
      "val calculate : int * int -> int * int -> (int * int * int) Seq.t = <fun>\n"
     ]
    }
   ],
   "source": [
    "#use \"bresenham.ml\""
   ]
  },
  {
   "cell_type": "code",
   "execution_count": 7,
   "metadata": {},
   "outputs": [
    {
     "data": {
      "text/plain": [
       "- : (int * int * int) list =\n",
       "[(1, 1, 1); (2, 2, 7); (3, 3, 13); (4, 4, 19); (5, 5, 25); (6, 6, 31);\n",
       " (7, 7, 37); (8, 8, 43)]\n"
      ]
     },
     "execution_count": 7,
     "metadata": {},
     "output_type": "execute_result"
    }
   ],
   "source": [
    "calculate (1, 1) (8, 5) |> List.of_seq "
   ]
  },
  {
   "cell_type": "code",
   "execution_count": 14,
   "metadata": {},
   "outputs": [
    {
     "name": "stdout",
     "output_type": "stream",
     "text": [
      "File \"bresenham.ml\", line 1, characters 5-11:\n",
      "1 | open Common \n",
      "         ^^^^^^\n",
      "Error: Unbound module Common\n"
     ]
    }
   ],
   "source": [
    "#use \"bresenham.ml\""
   ]
  },
  {
   "cell_type": "code",
   "execution_count": 11,
   "metadata": {},
   "outputs": [
    {
     "data": {
      "text/plain": [
       "- : (int * int * int) list =\n",
       "[(1, 1, 1); (2, 2, -5); (3, 2, 3); (4, 3, -3); (5, 3, 5); (6, 4, -1);\n",
       " (7, 4, 7); (8, 5, 1)]\n"
      ]
     },
     "execution_count": 11,
     "metadata": {},
     "output_type": "execute_result"
    }
   ],
   "source": [
    "calculate (1, 1) (8, 5) |> List.of_seq "
   ]
  },
  {
   "cell_type": "code",
   "execution_count": 12,
   "metadata": {},
   "outputs": [
    {
     "data": {
      "text/plain": [
       "- : unit = ()\n"
      ]
     },
     "execution_count": 12,
     "metadata": {},
     "output_type": "execute_result"
    }
   ],
   "source": [
    "Printf.printf \"Hey\""
   ]
  },
  {
   "cell_type": "code",
   "execution_count": 13,
   "metadata": {},
   "outputs": [
    {
     "data": {
      "text/plain": [
       "- : (int * int * int) list =\n",
       "[(3, 4, 10); (4, 5, 14); (5, 6, 18); (6, 7, 22); (7, 8, 26); (8, 9, 30);\n",
       " (9, 10, 34)]\n"
      ]
     },
     "execution_count": 13,
     "metadata": {},
     "output_type": "execute_result"
    }
   ],
   "source": [
    "calculate (3, 4) (9, 12) |> List.of_seq "
   ]
  },
  {
   "cell_type": "code",
   "execution_count": 15,
   "metadata": {},
   "outputs": [
    {
     "data": {
      "text/plain": [
       "module Common :\n",
       "  sig\n",
       "    module Seq :\n",
       "      sig\n",
       "        type 'a t = unit -> 'a node\n",
       "        and 'a node = 'a Seq.node = Nil | Cons of 'a * 'a t\n",
       "        val empty : 'a t\n",
       "        val return : 'a -> 'a t\n",
       "        val cons : 'a -> 'a t -> 'a t\n",
       "        val append : 'a t -> 'a t -> 'a t\n",
       "        val map : ('a -> 'b) -> 'a t -> 'b t\n",
       "        val filter : ('a -> bool) -> 'a t -> 'a t\n",
       "        val filter_map : ('a -> 'b option) -> 'a t -> 'b t\n",
       "        val flat_map : ('a -> 'b t) -> 'a t -> 'b t\n",
       "        val fold_left : ('a -> 'b -> 'a) -> 'a -> 'b t -> 'a\n",
       "        val iter : ('a -> unit) -> 'a t -> unit\n",
       "        val unfold : ('b -> ('a * 'b) option) -> 'b -> 'a t\n",
       "        val take : int -> 'a Seq.t -> 'a Seq.t\n",
       "        val take_while : ('a -> bool) -> 'a Seq.t -> 'a Seq.t\n",
       "      end\n",
       "  end\n"
      ]
     },
     "execution_count": 15,
     "metadata": {},
     "output_type": "execute_result"
    }
   ],
   "source": [
    "module Common = struct \n",
    "module Seq = struct \n",
    "    include Seq\n",
    "    let rec take n xs () = \n",
    "        match n, xs () with\n",
    "        | 0, _ -> Seq.Nil\n",
    "        | n, Seq.Cons (x, xs) -> Seq.Cons (x, take (pred n) xs)\n",
    "        | n, Seq.Nil (* n  > 0 *) -> Seq.Nil \n",
    "    \n",
    "    let rec take_while f xs () = \n",
    "        match xs () with \n",
    "        | Seq.Cons (x, xs) -> \n",
    "            if f x then \n",
    "                Seq.Cons (x, take_while f xs) \n",
    "            else \n",
    "                Seq.Nil \n",
    "        | Seq.Nil -> Seq.Nil\n",
    "end\n",
    "end"
   ]
  },
  {
   "cell_type": "code",
   "execution_count": 22,
   "metadata": {},
   "outputs": [
    {
     "name": "stdout",
     "output_type": "stream",
     "text": [
      "val calculate : int * int -> int * int -> (int * int * int) Seq.t = <fun>\n"
     ]
    }
   ],
   "source": [
    "#use \"bresenham.ml\""
   ]
  },
  {
   "cell_type": "code",
   "execution_count": 23,
   "metadata": {},
   "outputs": [
    {
     "data": {
      "text/plain": [
       "- : (int * int * int) list =\n",
       "[(1, 1, 1); (2, 2, -5); (3, 2, 3); (4, 3, -3); (5, 3, 5); (6, 4, -1);\n",
       " (7, 4, 7); (8, 5, 1)]\n"
      ]
     },
     "execution_count": 23,
     "metadata": {},
     "output_type": "execute_result"
    }
   ],
   "source": [
    "calculate (1, 1) (8, 5) |> List.of_seq "
   ]
  },
  {
   "cell_type": "code",
   "execution_count": 18,
   "metadata": {},
   "outputs": [
    {
     "data": {
      "text/plain": [
       "- : (int * int * int) list =\n",
       "[(3, 4, 10); (4, 11, 8); (5, 9, 15); (6, 16, 13); (7, 14, 20); (8, 21, 18);\n",
       " (9, 19, 25)]\n"
      ]
     },
     "execution_count": 18,
     "metadata": {},
     "output_type": "execute_result"
    }
   ],
   "source": [
    "calculate (3, 4) (9, 12) |> List.of_seq "
   ]
  },
  {
   "cell_type": "code",
   "execution_count": 24,
   "metadata": {},
   "outputs": [
    {
     "data": {
      "text/plain": [
       "- : int = 34\n"
      ]
     },
     "execution_count": 24,
     "metadata": {},
     "output_type": "execute_result"
    }
   ],
   "source": [
    "34"
   ]
  },
  {
   "cell_type": "code",
   "execution_count": null,
   "metadata": {},
   "outputs": [],
   "source": []
  }
 ],
 "metadata": {
  "kernelspec": {
   "display_name": "OCaml 4.11.1",
   "language": "OCaml",
   "name": "ocaml-jupyter"
  },
  "language_info": {
   "codemirror_mode": "text/x-ocaml",
   "file_extension": ".ml",
   "mimetype": "text/x-ocaml",
   "name": "OCaml",
   "nbconverter_exporter": null,
   "pygments_lexer": "OCaml",
   "version": "4.11.1"
  }
 },
 "nbformat": 4,
 "nbformat_minor": 4
}
