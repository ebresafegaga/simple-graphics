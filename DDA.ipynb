{
 "cells": [
  {
   "cell_type": "code",
   "execution_count": 2,
   "metadata": {},
   "outputs": [
    {
     "name": "stdout",
     "output_type": "stream",
     "text": [
      "val take : int -> 'a Seq.t -> 'a Seq.t = <fun>\n",
      "val calculate : int * int -> int * int -> (int * int) Seq.t = <fun>\n"
     ]
    }
   ],
   "source": [
    "#use \"DDA.ml\""
   ]
  },
  {
   "cell_type": "code",
   "execution_count": 3,
   "metadata": {},
   "outputs": [
    {
     "name": "stdout",
     "output_type": "stream",
     "text": [
      "val take : int -> 'a Seq.t -> 'a Seq.t = <fun>\n",
      "val calculate : int * int -> int * int -> (int * int) Seq.t = <fun>\n"
     ]
    }
   ],
   "source": [
    "#use \"DDA.ml\""
   ]
  },
  {
   "cell_type": "code",
   "execution_count": 4,
   "metadata": {},
   "outputs": [
    {
     "data": {
      "text/plain": [
       "- : (int * int) list = [(2, 2); (3, 3); (4, 4); (5, 5); (6, 6)]\n"
      ]
     },
     "execution_count": 4,
     "metadata": {},
     "output_type": "execute_result"
    }
   ],
   "source": [
    "calculate (2, 2) (6, 6) |> List.of_seq"
   ]
  },
  {
   "cell_type": "code",
   "execution_count": 5,
   "metadata": {},
   "outputs": [
    {
     "name": "stdout",
     "output_type": "stream",
     "text": [
      "val take : int -> 'a Seq.t -> 'a Seq.t = <fun>\n",
      "val calculate : int * int -> int * int -> (int * int) Seq.t = <fun>\n"
     ]
    }
   ],
   "source": [
    "#use \"DDA.ml\""
   ]
  },
  {
   "cell_type": "code",
   "execution_count": 6,
   "metadata": {},
   "outputs": [
    {
     "data": {
      "text/plain": [
       "- : (int * int) list = [(2, 2); (3, 3); (4, 4); (5, 5); (6, 6)]\n"
      ]
     },
     "execution_count": 6,
     "metadata": {},
     "output_type": "execute_result"
    }
   ],
   "source": [
    "calculate (2, 2) (6, 6) |> List.of_seq"
   ]
  },
  {
   "cell_type": "code",
   "execution_count": 7,
   "metadata": {},
   "outputs": [
    {
     "data": {
      "text/plain": [
       "- : (int * int) list =\n",
       "[(10, 15); (10, 16); (11, 17); (11, 18); (11, 19); (12, 20); (12, 21);\n",
       " (12, 22); (13, 23); (13, 24); (13, 25); (14, 26); (14, 27); (14, 28);\n",
       " (15, 29); (15, 30)]\n"
      ]
     },
     "execution_count": 7,
     "metadata": {},
     "output_type": "execute_result"
    }
   ],
   "source": [
    "calculate (10, 15) (15, 30) |> List.of_seq"
   ]
  },
  {
   "cell_type": "code",
   "execution_count": 8,
   "metadata": {},
   "outputs": [
    {
     "data": {
      "text/plain": [
       "- : (int * int) list =\n",
       "[(2, 5); (2, 6); (2, 7); (2, 8); (2, 9); (2, 10); (2, 11); (2, 12)]\n"
      ]
     },
     "execution_count": 8,
     "metadata": {},
     "output_type": "execute_result"
    }
   ],
   "source": [
    "calculate (2, 5) (2, 12) |> List.of_seq"
   ]
  },
  {
   "cell_type": "code",
   "execution_count": null,
   "metadata": {},
   "outputs": [],
   "source": []
  }
 ],
 "metadata": {
  "kernelspec": {
   "display_name": "OCaml 4.11.1",
   "language": "OCaml",
   "name": "ocaml-jupyter"
  },
  "language_info": {
   "codemirror_mode": "text/x-ocaml",
   "file_extension": ".ml",
   "mimetype": "text/x-ocaml",
   "name": "OCaml",
   "nbconverter_exporter": null,
   "pygments_lexer": "OCaml",
   "version": "4.11.1"
  }
 },
 "nbformat": 4,
 "nbformat_minor": 4
}
